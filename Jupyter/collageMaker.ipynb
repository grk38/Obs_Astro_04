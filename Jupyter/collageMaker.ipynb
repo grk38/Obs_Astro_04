{
 "cells": [
  {
   "cell_type": "code",
   "execution_count": 2,
   "metadata": {},
   "outputs": [],
   "source": [
    "import os\n",
    "from PIL import Image\n",
    "currentDir = os.getcwd()"
   ]
  },
  {
   "cell_type": "code",
   "execution_count": 8,
   "metadata": {},
   "outputs": [],
   "source": [
    "from PIL import Image\n",
    "\n",
    "# Load images\n",
    "img1 = Image.open(\"Period_Batch_2_Spot_1.png\")\n",
    "img2 = Image.open(\"Period_Batch_2_Spot_2.png\")\n",
    "img3 = Image.open(\"Period_Batch_3_Spot_1.png\")\n",
    "img4 = Image.open(\"Period_Batch_3_Spot_2.png\")\n",
    "img5 = Image.open(\"Period_Batch_4_Spot_1.png\")\n",
    "img6 = Image.open(\"Period_Batch_4_Spot_2.png\")\n",
    "\n",
    "# Resize images if necessary (assumes all images are the same size)\n",
    "# Get dimensions\n",
    "width, height = img1.size\n",
    "\n",
    "# Resize images if needed\n",
    "img1 = img1.resize((width, height))\n",
    "img2 = img2.resize((width, height))\n",
    "img3 = img3.resize((width, height))\n",
    "img4 = img4.resize((width, height))\n",
    "img5 = img5.resize((width, height))\n",
    "img6 = img6.resize((width, height))\n",
    "\n",
    "# Create a new image with a size to accommodate all six images in a 3x2 grid\n",
    "collage = Image.new('RGB', (3 * width, 2 * height))\n",
    "\n",
    "# Paste the images into the collage\n",
    "collage.paste(img1, (0, 0))\n",
    "collage.paste(img2, (width, 0))\n",
    "collage.paste(img3, (2 * width, 0))\n",
    "collage.paste(img4, (0, height))\n",
    "collage.paste(img5, (width, height))\n",
    "collage.paste(img6, (2 * width, height))\n",
    "\n",
    "# Save the collage\n",
    "collage.save(\"collage.jpg\")\n",
    "\n",
    "# Show the collage\n",
    "collage.show()\n"
   ]
  }
 ],
 "metadata": {
  "kernelspec": {
   "display_name": ".venv",
   "language": "python",
   "name": "python3"
  },
  "language_info": {
   "codemirror_mode": {
    "name": "ipython",
    "version": 3
   },
   "file_extension": ".py",
   "mimetype": "text/x-python",
   "name": "python",
   "nbconvert_exporter": "python",
   "pygments_lexer": "ipython3",
   "version": "3.12.3"
  }
 },
 "nbformat": 4,
 "nbformat_minor": 2
}
